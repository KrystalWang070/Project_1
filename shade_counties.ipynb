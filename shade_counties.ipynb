{
 "cells": [
  {
   "cell_type": "code",
   "execution_count": 12,
   "metadata": {},
   "outputs": [],
   "source": [
    "import gmaps\n",
    "import gmaps.geojson_geometries\n",
    "import gmaps.datasets\n",
    "gmaps.geojson_geometries.list_geometries()\n",
    "counties_geojson = gmaps.geojson_geometries.load_geometry(\"us-counties\")"
   ]
  },
  {
   "cell_type": "code",
   "execution_count": 11,
   "metadata": {},
   "outputs": [
    {
     "data": {
      "application/vnd.jupyter.widget-view+json": {
       "model_id": "cc621261b4fe4a79840dab7780c7d339",
       "version_major": 2,
       "version_minor": 0
      },
      "text/plain": [
       "Figure(layout=FigureLayout(height='420px'))"
      ]
     },
     "metadata": {},
     "output_type": "display_data"
    }
   ],
   "source": [
    "counties_ls = counties_geojson['features']\n",
    "fig = gmaps.figure()\n",
    "county_layer = gmaps.geojson_layer(counties_geojson)\n",
    "fig.add_layer(county_layer)\n",
    "fig"
   ]
  },
  {
   "cell_type": "code",
   "execution_count": 182,
   "metadata": {},
   "outputs": [],
   "source": [
    "import random\n",
    "import pandas as pd\n",
    "\n",
    "fipps_ls = []\n",
    "c_percent_ls = []\n",
    "s_percent_ls = []\n",
    "f_percent_ls = []\n",
    "\n",
    "for county in counties_ls:\n",
    "    props = county['properties']\n",
    "    county_state = props[\"STATE\"]\n",
    "    county_num = props[\"COUNTY\"]\n",
    "    county_fipps = county_state+county_num\n",
    "    fipps_ls.append(county_fipps)\n",
    "    c = random.uniform(0.0,0.5)*100\n",
    "    s = random.uniform(0.0,0.5)*100\n",
    "    c_percent_ls.append(c)\n",
    "    s_percent_ls.append(s)\n",
    "    f_percent_ls.append(100-c-s)\n",
    "\n",
    "df = pd.DataFrame({'FIPPs':fipps_ls,'pct_chinese':c_percent_ls,'pct_spanish':s_percent_ls,\"pct_french\":f_percent_ls})\n",
    "df.set_index(\"FIPPs\")"
   ]
  },
  {
   "cell_type": "code",
   "execution_count": 190,
   "metadata": {},
   "outputs": [],
   "source": [
    "from matplotlib.cm import viridis\n",
    "from matplotlib.colors import to_hex\n",
    "colors = []\n",
    "\n",
    "def shade_pct(df, language):\n",
    "    counties = []\n",
    "    for county in df.iterrows():\n",
    "        counties.append(county)\n",
    "    #return counties\n",
    "        county_fipps = county[1][\"FIPPs\"]\n",
    "        pct = county[1][F\"pct_{language}\"]\n",
    "        #print(pct)\n",
    "        norm_pct = pct/100\n",
    "        mpl_color = viridis(norm_pct)\n",
    "        gmaps_color = to_hex(mpl_color, keep_alpha=False)\n",
    "        colors.append(gmaps_color)\n",
    "    return counties, colors\n",
    "\n",
    "d, c = shade_pct(df, \"chinese\")\n",
    "#[0][1][\"FIPPs\"]"
   ]
  },
  {
   "cell_type": "code",
   "execution_count": 191,
   "metadata": {},
   "outputs": [],
   "source": [
    "state_geojson = gmaps.geojson_geometries.load_geometry(\"us-states\")"
   ]
  },
  {
   "cell_type": "code",
   "execution_count": 196,
   "metadata": {},
   "outputs": [
    {
     "data": {
      "application/vnd.jupyter.widget-view+json": {
       "model_id": "bb8d26e8855e4185a4d931b429b59f5f",
       "version_major": 2,
       "version_minor": 0
      },
      "text/plain": [
       "Figure(layout=FigureLayout(height='420px'))"
      ]
     },
     "metadata": {},
     "output_type": "display_data"
    }
   ],
   "source": [
    "fig = gmaps.figure()\n",
    "pct_layer = gmaps.geojson_layer(counties_geojson, stroke_weight = 0.5,\n",
    "                                fill_color=c, fill_opacity=0.8)\n",
    "state_layer = gmaps.geojson_layer(state_geojson, stroke_weight = 2,\n",
    "                                  fill_opacity=0)\n",
    "fig.add_layer(pct_layer)\n",
    "fig.add_layer(state_layer)\n",
    "fig"
   ]
  },
  {
   "cell_type": "code",
   "execution_count": 186,
   "metadata": {},
   "outputs": [],
   "source": [
    "l_colors = {\"spanish\":\"#FF8E00\",\"french\":\"#006FFF\",\"chinese\":\"#FF0000\"}\n",
    "languages = list(l_colors.keys())\n",
    "#l_colors = {\"chinese\":\"#FF0000\"}\n",
    "#languages = list(l_colors.keys())\n",
    "\n",
    "def shade_lan(df):\n",
    "    colors = []\n",
    "    counties = []\n",
    "    for county in df.iterrows():\n",
    "        gmaps_color = \"#FFFFFF\"\n",
    "        county_fipps = county[1][\"FIPPs\"]\n",
    "        plur_lan = 0\n",
    "        #plur_lan = 50\n",
    "        for lan in languages: \n",
    "            pct = county[1][F\"pct_{lan}\"]\n",
    "            if pct > plur_lan:\n",
    "                plur_lan = pct\n",
    "                gmaps_color = l_colors[lan]\n",
    "        colors.append(gmaps_color)\n",
    "    return colors\n",
    "colors = shade_lan(df)"
   ]
  },
  {
   "cell_type": "code",
   "execution_count": 187,
   "metadata": {},
   "outputs": [
    {
     "data": {
      "application/vnd.jupyter.widget-view+json": {
       "model_id": "3acd78551ffd4db5a1f7ef9e83660eb4",
       "version_major": 2,
       "version_minor": 0
      },
      "text/plain": [
       "Figure(layout=FigureLayout(height='420px'))"
      ]
     },
     "metadata": {},
     "output_type": "display_data"
    }
   ],
   "source": [
    "fig = gmaps.figure()\n",
    "pct_layer = gmaps.geojson_layer(counties_geojson, fill_color=colors)\n",
    "fig.add_layer(pct_layer)\n",
    "fig"
   ]
  },
  {
   "cell_type": "code",
   "execution_count": null,
   "metadata": {},
   "outputs": [],
   "source": []
  }
 ],
 "metadata": {
  "kernelspec": {
   "display_name": "Python 3",
   "language": "python",
   "name": "python3"
  },
  "language_info": {
   "codemirror_mode": {
    "name": "ipython",
    "version": 3
   },
   "file_extension": ".py",
   "mimetype": "text/x-python",
   "name": "python",
   "nbconvert_exporter": "python",
   "pygments_lexer": "ipython3",
   "version": "3.7.4"
  }
 },
 "nbformat": 4,
 "nbformat_minor": 4
}
