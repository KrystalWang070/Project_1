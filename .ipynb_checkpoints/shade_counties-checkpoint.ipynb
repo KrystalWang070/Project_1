{
 "cells": [
  {
   "cell_type": "code",
   "execution_count": 1,
   "metadata": {},
   "outputs": [
    {
     "name": "stderr",
     "output_type": "stream",
     "text": [
      "C:\\Users\\kuhnie\\Anaconda3\\lib\\site-packages\\ipykernel_launcher.py:22: SettingWithCopyWarning: \n",
      "A value is trying to be set on a copy of a slice from a DataFrame\n",
      "\n",
      "See the caveats in the documentation: http://pandas.pydata.org/pandas-docs/stable/user_guide/indexing.html#returning-a-view-versus-a-copy\n"
     ]
    }
   ],
   "source": [
    "import gmaps\n",
    "import gmaps.geojson_geometries\n",
    "import gmaps.datasets\n",
    "import random\n",
    "import pandas as pd\n",
    "from matplotlib.cm import viridis\n",
    "from matplotlib.colors import to_hex\n",
    "from functions import shade_lan\n",
    "from functions import shade_pct\n",
    "\n",
    "gmaps.geojson_geometries.list_geometries()\n",
    "counties_geojson = gmaps.geojson_geometries.load_geometry(\"us-counties\")\n",
    "state_geojson = gmaps.geojson_geometries.load_geometry(\"us-states\")\n",
    "counties_ls = counties_geojson['features']\n",
    "counties_ls[0]\n",
    "fips_ls = [c['properties']['STATE']+c['properties']['COUNTY'] for c in counties_ls]\n",
    "fp = \"langs_by_county.csv\"\n",
    "csv_df = pd.read_csv(fp)\n",
    "csv_df['fips'] = csv_df['fips'].astype(str)\n",
    "for i, v in enumerate(csv_df['fips']):\n",
    "    if len(v) < 5:\n",
    "        csv_df['fips'][i] = '0'+v\n",
    "df = csv_df.set_index(\"fips\")"
   ]
  },
  {
   "cell_type": "code",
   "execution_count": 2,
   "metadata": {},
   "outputs": [
    {
     "data": {
      "text/html": [
       "<div>\n",
       "<style scoped>\n",
       "    .dataframe tbody tr th:only-of-type {\n",
       "        vertical-align: middle;\n",
       "    }\n",
       "\n",
       "    .dataframe tbody tr th {\n",
       "        vertical-align: top;\n",
       "    }\n",
       "\n",
       "    .dataframe thead th {\n",
       "        text-align: right;\n",
       "    }\n",
       "</style>\n",
       "<table border=\"1\" class=\"dataframe\">\n",
       "  <thead>\n",
       "    <tr style=\"text-align: right;\">\n",
       "      <th></th>\n",
       "      <th>county</th>\n",
       "      <th>state code</th>\n",
       "      <th>county code</th>\n",
       "      <th>population</th>\n",
       "      <th>no_french</th>\n",
       "      <th>pct_french</th>\n",
       "      <th>no_spanish</th>\n",
       "      <th>pct_spanish</th>\n",
       "      <th>no_chinese</th>\n",
       "      <th>pct_chinese</th>\n",
       "    </tr>\n",
       "    <tr>\n",
       "      <th>fips</th>\n",
       "      <th></th>\n",
       "      <th></th>\n",
       "      <th></th>\n",
       "      <th></th>\n",
       "      <th></th>\n",
       "      <th></th>\n",
       "      <th></th>\n",
       "      <th></th>\n",
       "      <th></th>\n",
       "      <th></th>\n",
       "    </tr>\n",
       "  </thead>\n",
       "  <tbody>\n",
       "    <tr>\n",
       "      <td>02020</td>\n",
       "      <td>Anchorage Municipality, AK</td>\n",
       "      <td>2</td>\n",
       "      <td>20</td>\n",
       "      <td>300950</td>\n",
       "      <td>1035</td>\n",
       "      <td>0.343911</td>\n",
       "      <td>12635</td>\n",
       "      <td>4.198372</td>\n",
       "      <td>740</td>\n",
       "      <td>0.245888</td>\n",
       "    </tr>\n",
       "    <tr>\n",
       "      <td>04013</td>\n",
       "      <td>Maricopa County, AZ</td>\n",
       "      <td>4</td>\n",
       "      <td>13</td>\n",
       "      <td>4009412</td>\n",
       "      <td>10680</td>\n",
       "      <td>0.266373</td>\n",
       "      <td>733630</td>\n",
       "      <td>18.297696</td>\n",
       "      <td>13750</td>\n",
       "      <td>0.342943</td>\n",
       "    </tr>\n",
       "    <tr>\n",
       "      <td>04017</td>\n",
       "      <td>Navajo County, AZ</td>\n",
       "      <td>4</td>\n",
       "      <td>17</td>\n",
       "      <td>107322</td>\n",
       "      <td>85</td>\n",
       "      <td>0.079201</td>\n",
       "      <td>5885</td>\n",
       "      <td>5.483498</td>\n",
       "      <td>0</td>\n",
       "      <td>0.000000</td>\n",
       "    </tr>\n",
       "    <tr>\n",
       "      <td>04019</td>\n",
       "      <td>Pima County, AZ</td>\n",
       "      <td>4</td>\n",
       "      <td>19</td>\n",
       "      <td>996554</td>\n",
       "      <td>3230</td>\n",
       "      <td>0.324117</td>\n",
       "      <td>217115</td>\n",
       "      <td>21.786577</td>\n",
       "      <td>4625</td>\n",
       "      <td>0.464099</td>\n",
       "    </tr>\n",
       "    <tr>\n",
       "      <td>06001</td>\n",
       "      <td>Alameda County, CA</td>\n",
       "      <td>6</td>\n",
       "      <td>1</td>\n",
       "      <td>1578891</td>\n",
       "      <td>6915</td>\n",
       "      <td>0.437966</td>\n",
       "      <td>241150</td>\n",
       "      <td>15.273379</td>\n",
       "      <td>69165</td>\n",
       "      <td>4.380606</td>\n",
       "    </tr>\n",
       "    <tr>\n",
       "      <td>...</td>\n",
       "      <td>...</td>\n",
       "      <td>...</td>\n",
       "      <td>...</td>\n",
       "      <td>...</td>\n",
       "      <td>...</td>\n",
       "      <td>...</td>\n",
       "      <td>...</td>\n",
       "      <td>...</td>\n",
       "      <td>...</td>\n",
       "      <td>...</td>\n",
       "    </tr>\n",
       "    <tr>\n",
       "      <td>53033</td>\n",
       "      <td>King County, WA</td>\n",
       "      <td>53</td>\n",
       "      <td>33</td>\n",
       "      <td>2044449</td>\n",
       "      <td>11955</td>\n",
       "      <td>0.584754</td>\n",
       "      <td>121930</td>\n",
       "      <td>5.963954</td>\n",
       "      <td>38030</td>\n",
       "      <td>1.860159</td>\n",
       "    </tr>\n",
       "    <tr>\n",
       "      <td>53053</td>\n",
       "      <td>Pierce County, WA</td>\n",
       "      <td>53</td>\n",
       "      <td>53</td>\n",
       "      <td>819743</td>\n",
       "      <td>1825</td>\n",
       "      <td>0.222631</td>\n",
       "      <td>44005</td>\n",
       "      <td>5.368146</td>\n",
       "      <td>1665</td>\n",
       "      <td>0.203112</td>\n",
       "    </tr>\n",
       "    <tr>\n",
       "      <td>53061</td>\n",
       "      <td>Snohomish County, WA</td>\n",
       "      <td>53</td>\n",
       "      <td>61</td>\n",
       "      <td>745913</td>\n",
       "      <td>2205</td>\n",
       "      <td>0.295611</td>\n",
       "      <td>41660</td>\n",
       "      <td>5.585102</td>\n",
       "      <td>5065</td>\n",
       "      <td>0.679034</td>\n",
       "    </tr>\n",
       "    <tr>\n",
       "      <td>55025</td>\n",
       "      <td>Dane County, WI</td>\n",
       "      <td>55</td>\n",
       "      <td>25</td>\n",
       "      <td>509939</td>\n",
       "      <td>2050</td>\n",
       "      <td>0.402009</td>\n",
       "      <td>23715</td>\n",
       "      <td>4.650556</td>\n",
       "      <td>4430</td>\n",
       "      <td>0.868731</td>\n",
       "    </tr>\n",
       "    <tr>\n",
       "      <td>55079</td>\n",
       "      <td>Milwaukee County, WI</td>\n",
       "      <td>55</td>\n",
       "      <td>79</td>\n",
       "      <td>956023</td>\n",
       "      <td>2420</td>\n",
       "      <td>0.253132</td>\n",
       "      <td>88015</td>\n",
       "      <td>9.206368</td>\n",
       "      <td>2360</td>\n",
       "      <td>0.246856</td>\n",
       "    </tr>\n",
       "  </tbody>\n",
       "</table>\n",
       "<p>155 rows × 10 columns</p>\n",
       "</div>"
      ],
      "text/plain": [
       "                           county  state code  county code  population  \\\n",
       "fips                                                                     \n",
       "02020  Anchorage Municipality, AK           2           20      300950   \n",
       "04013         Maricopa County, AZ           4           13     4009412   \n",
       "04017           Navajo County, AZ           4           17      107322   \n",
       "04019             Pima County, AZ           4           19      996554   \n",
       "06001          Alameda County, CA           6            1     1578891   \n",
       "...                           ...         ...          ...         ...   \n",
       "53033             King County, WA          53           33     2044449   \n",
       "53053           Pierce County, WA          53           53      819743   \n",
       "53061        Snohomish County, WA          53           61      745913   \n",
       "55025             Dane County, WI          55           25      509939   \n",
       "55079        Milwaukee County, WI          55           79      956023   \n",
       "\n",
       "       no_french  pct_french  no_spanish  pct_spanish  no_chinese  pct_chinese  \n",
       "fips                                                                            \n",
       "02020       1035    0.343911       12635     4.198372         740     0.245888  \n",
       "04013      10680    0.266373      733630    18.297696       13750     0.342943  \n",
       "04017         85    0.079201        5885     5.483498           0     0.000000  \n",
       "04019       3230    0.324117      217115    21.786577        4625     0.464099  \n",
       "06001       6915    0.437966      241150    15.273379       69165     4.380606  \n",
       "...          ...         ...         ...          ...         ...          ...  \n",
       "53033      11955    0.584754      121930     5.963954       38030     1.860159  \n",
       "53053       1825    0.222631       44005     5.368146        1665     0.203112  \n",
       "53061       2205    0.295611       41660     5.585102        5065     0.679034  \n",
       "55025       2050    0.402009       23715     4.650556        4430     0.868731  \n",
       "55079       2420    0.253132       88015     9.206368        2360     0.246856  \n",
       "\n",
       "[155 rows x 10 columns]"
      ]
     },
     "execution_count": 2,
     "metadata": {},
     "output_type": "execute_result"
    }
   ],
   "source": [
    "df"
   ]
  },
  {
   "cell_type": "markdown",
   "metadata": {},
   "source": [
    "<div style=\"display:flex\">\n",
    "    <p style=\"background-color: #60ff30; color:black\">100%</p>\n",
    "    <p style=\"background-color: #24ffd9; color:black\">>75%</p>\n",
    "    <p style=\"background-color: #1c86ff\">>50%</p>\n",
    "    <p style=\"background-color: #4c14ff\">>25%</p>\n",
    "    <p style=\"background-color: #9d10ff\">>10%</p>\n",
    "    <p style=\"background-color: #ff08b6\">>0%</p>\n",
    "    <p style=\"background-color: #ff0000\">0%</p>\n",
    "</div>"
   ]
  },
  {
   "cell_type": "code",
   "execution_count": 3,
   "metadata": {},
   "outputs": [
    {
     "data": {
      "application/vnd.jupyter.widget-view+json": {
       "model_id": "e10a7c1d9fa84254aa7f9f8fead8c6c8",
       "version_major": 2,
       "version_minor": 0
      },
      "text/plain": [
       "Figure(layout=FigureLayout(height='420px'))"
      ]
     },
     "metadata": {},
     "output_type": "display_data"
    }
   ],
   "source": [
    "#Produces Chinese Map\n",
    "c = shade_pct(fips_ls, df, \"chinese\")\n",
    "\n",
    "fig = gmaps.figure()\n",
    "pct_layer = gmaps.geojson_layer(counties_geojson, stroke_weight = 0.5,\n",
    "                                fill_color=c, fill_opacity=0.5)\n",
    "state_layer = gmaps.geojson_layer(state_geojson, stroke_weight = 2,\n",
    "                                  fill_opacity=0)\n",
    "fig.add_layer(pct_layer)\n",
    "fig.add_layer(state_layer)\n",
    "fig"
   ]
  },
  {
   "cell_type": "code",
   "execution_count": 4,
   "metadata": {},
   "outputs": [
    {
     "data": {
      "application/vnd.jupyter.widget-view+json": {
       "model_id": "a634f8cca273490582af9cca23c96fe9",
       "version_major": 2,
       "version_minor": 0
      },
      "text/plain": [
       "Figure(layout=FigureLayout(height='420px'))"
      ]
     },
     "metadata": {},
     "output_type": "display_data"
    }
   ],
   "source": [
    "#Produces Spanish Map\n",
    "c = shade_pct(fips_ls, df, \"spanish\")\n",
    "fig = gmaps.figure()\n",
    "pct_layer = gmaps.geojson_layer(counties_geojson, stroke_weight = 0.5,\n",
    "                                fill_color=c, fill_opacity=0.5)\n",
    "state_layer = gmaps.geojson_layer(state_geojson, stroke_weight = 2,\n",
    "                                  fill_opacity=0)\n",
    "fig.add_layer(pct_layer)\n",
    "fig.add_layer(state_layer)\n",
    "fig"
   ]
  },
  {
   "cell_type": "code",
   "execution_count": 5,
   "metadata": {},
   "outputs": [
    {
     "data": {
      "application/vnd.jupyter.widget-view+json": {
       "model_id": "149db789ec054bc88ef8b9bee50d9586",
       "version_major": 2,
       "version_minor": 0
      },
      "text/plain": [
       "Figure(layout=FigureLayout(height='420px'))"
      ]
     },
     "metadata": {},
     "output_type": "display_data"
    }
   ],
   "source": [
    "#Produces French Map\n",
    "c = shade_pct(fips_ls, df, \"french\")\n",
    "fig = gmaps.figure()\n",
    "pct_layer = gmaps.geojson_layer(counties_geojson, stroke_weight = 0.5,\n",
    "                                fill_color=c, fill_opacity=0.5)\n",
    "state_layer = gmaps.geojson_layer(state_geojson, stroke_weight = 2,\n",
    "                                  fill_opacity=0)\n",
    "fig.add_layer(pct_layer)\n",
    "fig.add_layer(state_layer)\n",
    "fig"
   ]
  },
  {
   "cell_type": "code",
   "execution_count": 7,
   "metadata": {},
   "outputs": [
    {
     "ename": "NameError",
     "evalue": "name 'fips_ls' is not defined",
     "output_type": "error",
     "traceback": [
      "\u001b[1;31m---------------------------------------------------------------------------\u001b[0m",
      "\u001b[1;31mNameError\u001b[0m                                 Traceback (most recent call last)",
      "\u001b[1;32m<ipython-input-7-636f27e97863>\u001b[0m in \u001b[0;36m<module>\u001b[1;34m\u001b[0m\n\u001b[1;32m----> 1\u001b[1;33m \u001b[0mcolors\u001b[0m \u001b[1;33m=\u001b[0m \u001b[0mshade_lan\u001b[0m\u001b[1;33m(\u001b[0m\u001b[0mdf\u001b[0m\u001b[1;33m,\u001b[0m \u001b[1;32mTrue\u001b[0m\u001b[1;33m)\u001b[0m\u001b[1;33m\u001b[0m\u001b[1;33m\u001b[0m\u001b[0m\n\u001b[0m\u001b[0;32m      2\u001b[0m \u001b[0mfig\u001b[0m \u001b[1;33m=\u001b[0m \u001b[0mgmaps\u001b[0m\u001b[1;33m.\u001b[0m\u001b[0mfigure\u001b[0m\u001b[1;33m(\u001b[0m\u001b[1;33m)\u001b[0m\u001b[1;33m\u001b[0m\u001b[1;33m\u001b[0m\u001b[0m\n\u001b[0;32m      3\u001b[0m pct_layer = gmaps.geojson_layer(counties_geojson, stroke_weight = 0.5,\n\u001b[0;32m      4\u001b[0m                                 fill_color=colors, fill_opacity=0.5)\n\u001b[0;32m      5\u001b[0m state_layer = gmaps.geojson_layer(state_geojson, stroke_weight = 2,\n",
      "\u001b[1;32m~\\project1_repo\\Project_1\\functions.py\u001b[0m in \u001b[0;36mshade_lan\u001b[1;34m(df, other_pct)\u001b[0m\n\u001b[0;32m     32\u001b[0m     \u001b[0ml_colors\u001b[0m \u001b[1;33m=\u001b[0m \u001b[1;33m{\u001b[0m\u001b[1;34m\"spanish\"\u001b[0m\u001b[1;33m:\u001b[0m\u001b[1;34m\"#FF8E00\"\u001b[0m\u001b[1;33m,\u001b[0m\u001b[1;34m\"french\"\u001b[0m\u001b[1;33m:\u001b[0m\u001b[1;34m\"#006FFF\"\u001b[0m\u001b[1;33m,\u001b[0m\u001b[1;34m\"chinese\"\u001b[0m\u001b[1;33m:\u001b[0m\u001b[1;34m\"#FF0000\"\u001b[0m\u001b[1;33m}\u001b[0m\u001b[1;33m\u001b[0m\u001b[1;33m\u001b[0m\u001b[0m\n\u001b[0;32m     33\u001b[0m     \u001b[0mlanguages\u001b[0m \u001b[1;33m=\u001b[0m \u001b[0mlist\u001b[0m\u001b[1;33m(\u001b[0m\u001b[0ml_colors\u001b[0m\u001b[1;33m.\u001b[0m\u001b[0mkeys\u001b[0m\u001b[1;33m(\u001b[0m\u001b[1;33m)\u001b[0m\u001b[1;33m)\u001b[0m\u001b[1;33m\u001b[0m\u001b[1;33m\u001b[0m\u001b[0m\n\u001b[1;32m---> 34\u001b[1;33m     \u001b[1;32mfor\u001b[0m \u001b[0mcounty\u001b[0m \u001b[1;32min\u001b[0m \u001b[0mfips\u001b[0m\u001b[1;33m:\u001b[0m\u001b[1;33m\u001b[0m\u001b[1;33m\u001b[0m\u001b[0m\n\u001b[0m\u001b[0;32m     35\u001b[0m         \u001b[1;32mif\u001b[0m \u001b[0mcounty\u001b[0m \u001b[1;32min\u001b[0m \u001b[0mlist\u001b[0m\u001b[1;33m(\u001b[0m\u001b[0mdf\u001b[0m\u001b[1;33m.\u001b[0m\u001b[0mindex\u001b[0m\u001b[1;33m)\u001b[0m\u001b[1;33m:\u001b[0m\u001b[1;33m\u001b[0m\u001b[1;33m\u001b[0m\u001b[0m\n\u001b[0;32m     36\u001b[0m             \u001b[0mgmaps_color\u001b[0m \u001b[1;33m=\u001b[0m \u001b[1;34m\"#FFFFFF\"\u001b[0m\u001b[1;33m\u001b[0m\u001b[1;33m\u001b[0m\u001b[0m\n",
      "\u001b[1;31mNameError\u001b[0m: name 'fips_ls' is not defined"
     ]
    }
   ],
   "source": [
    "colors = shade_lan(df, True)\n",
    "fig = gmaps.figure()\n",
    "pct_layer = gmaps.geojson_layer(counties_geojson, stroke_weight = 0.5,\n",
    "                                fill_color=colors, fill_opacity=0.5)\n",
    "state_layer = gmaps.geojson_layer(state_geojson, stroke_weight = 2,\n",
    "                                  fill_opacity=0)\n",
    "fig.add_layer(pct_layer)\n",
    "fig.add_layer(state_layer)\n",
    "fig"
   ]
  },
  {
   "cell_type": "code",
   "execution_count": 30,
   "metadata": {},
   "outputs": [
    {
     "data": {
      "application/vnd.jupyter.widget-view+json": {
       "model_id": "838251507e954882a896a1f88fcc5a76",
       "version_major": 2,
       "version_minor": 0
      },
      "text/plain": [
       "Figure(layout=FigureLayout(height='420px'))"
      ]
     },
     "metadata": {},
     "output_type": "display_data"
    }
   ],
   "source": [
    "colors = shade_lan(fips_ls, df)\n",
    "fig = gmaps.figure()\n",
    "pct_layer = gmaps.geojson_layer(counties_geojson, stroke_weight = 0.5,\n",
    "                                fill_color=colors, fill_opacity=0.5)\n",
    "state_layer = gmaps.geojson_layer(state_geojson, stroke_weight = 2,\n",
    "                                  fill_opacity=0)\n",
    "fig.add_layer(pct_layer)\n",
    "fig.add_layer(state_layer)\n",
    "fig"
   ]
  },
  {
   "cell_type": "code",
   "execution_count": null,
   "metadata": {},
   "outputs": [],
   "source": []
  },
  {
   "cell_type": "code",
   "execution_count": null,
   "metadata": {},
   "outputs": [],
   "source": []
  }
 ],
 "metadata": {
  "kernelspec": {
   "display_name": "Python 3",
   "language": "python",
   "name": "python3"
  },
  "language_info": {
   "codemirror_mode": {
    "name": "ipython",
    "version": 3
   },
   "file_extension": ".py",
   "mimetype": "text/x-python",
   "name": "python",
   "nbconvert_exporter": "python",
   "pygments_lexer": "ipython3",
   "version": "3.7.4"
  }
 },
 "nbformat": 4,
 "nbformat_minor": 4
}
