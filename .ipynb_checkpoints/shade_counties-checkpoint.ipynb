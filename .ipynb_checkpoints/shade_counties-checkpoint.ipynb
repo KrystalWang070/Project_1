{
 "cells": [
  {
   "cell_type": "code",
   "execution_count": 8,
   "metadata": {},
   "outputs": [
    {
     "name": "stderr",
     "output_type": "stream",
     "text": [
      "C:\\Users\\kuhnie\\Anaconda3\\lib\\site-packages\\ipykernel_launcher.py:36: SettingWithCopyWarning: \n",
      "A value is trying to be set on a copy of a slice from a DataFrame\n",
      "\n",
      "See the caveats in the documentation: http://pandas.pydata.org/pandas-docs/stable/user_guide/indexing.html#returning-a-view-versus-a-copy\n",
      "C:\\Users\\kuhnie\\Anaconda3\\lib\\site-packages\\ipykernel_launcher.py:40: SettingWithCopyWarning: \n",
      "A value is trying to be set on a copy of a slice from a DataFrame\n",
      "\n",
      "See the caveats in the documentation: http://pandas.pydata.org/pandas-docs/stable/user_guide/indexing.html#returning-a-view-versus-a-copy\n"
     ]
    }
   ],
   "source": [
    "#Initialization\n",
    "import gmaps\n",
    "import gmaps.geojson_geometries\n",
    "import gmaps.datasets\n",
    "import random\n",
    "import pandas as pd\n",
    "from matplotlib.cm import viridis\n",
    "from matplotlib.colors import to_hex\n",
    "from functions import shade_lan\n",
    "from functions import shade_pct\n",
    "\n",
    "#gmaps.geojson_geometries.list_geometries()\n",
    "#Loads county and state shapes\n",
    "counties_geojson = gmaps.geojson_geometries.load_geometry(\"us-counties\")\n",
    "state_geojson = gmaps.geojson_geometries.load_geometry(\"us-states\")\n",
    "\n",
    "#list of counties\n",
    "counties_ls = counties_geojson['features']\n",
    "#list of county \"fips\" codes\n",
    "fips_ls = [c['properties']['STATE']+c['properties']['COUNTY'] for c in counties_ls]\n",
    "\n",
    "#list of states\n",
    "state_ls = state_geojson['features']\n",
    "#list of state codes\n",
    "state_fips = [s['properties']['STATE'] for s in state_ls]\n",
    "\n",
    "#Reads data from csv\n",
    "fp = \"langs_by_county.csv\"\n",
    "csv_df = pd.read_csv(fp)\n",
    "csv_df['fips'] = csv_df['fips'].astype(str)\n",
    "csv_df['state code'] = csv_df['state code'].astype(str)\n",
    "\n",
    "#Adds 0 to fips codes\n",
    "for i, v in enumerate(csv_df['fips']):\n",
    "    if len(v) < 5:\n",
    "        csv_df['fips'][i] = '0'+v\n",
    "        \n",
    "for i, v in enumerate(csv_df['state code']):\n",
    "    if len(v) < 2:\n",
    "        csv_df['state code'][i] = '0'+v\n",
    "\n",
    "\n",
    "#Sets index to county code\n",
    "df = csv_df.set_index(\"fips\")"
   ]
  },
  {
   "cell_type": "code",
   "execution_count": 17,
   "metadata": {},
   "outputs": [
    {
     "data": {
      "text/html": [
       "<div>\n",
       "<style scoped>\n",
       "    .dataframe tbody tr th:only-of-type {\n",
       "        vertical-align: middle;\n",
       "    }\n",
       "\n",
       "    .dataframe tbody tr th {\n",
       "        vertical-align: top;\n",
       "    }\n",
       "\n",
       "    .dataframe thead th {\n",
       "        text-align: right;\n",
       "    }\n",
       "</style>\n",
       "<table border=\"1\" class=\"dataframe\">\n",
       "  <thead>\n",
       "    <tr style=\"text-align: right;\">\n",
       "      <th></th>\n",
       "      <th>county</th>\n",
       "      <th>state code</th>\n",
       "      <th>county code</th>\n",
       "      <th>population</th>\n",
       "      <th>no_french</th>\n",
       "      <th>pct_french</th>\n",
       "      <th>no_spanish</th>\n",
       "      <th>pct_spanish</th>\n",
       "      <th>no_chinese</th>\n",
       "      <th>pct_chinese</th>\n",
       "    </tr>\n",
       "    <tr>\n",
       "      <th>fips</th>\n",
       "      <th></th>\n",
       "      <th></th>\n",
       "      <th></th>\n",
       "      <th></th>\n",
       "      <th></th>\n",
       "      <th></th>\n",
       "      <th></th>\n",
       "      <th></th>\n",
       "      <th></th>\n",
       "      <th></th>\n",
       "    </tr>\n",
       "  </thead>\n",
       "  <tbody>\n",
       "    <tr>\n",
       "      <td>12086</td>\n",
       "      <td>Miami-Dade County, FL</td>\n",
       "      <td>12</td>\n",
       "      <td>86</td>\n",
       "      <td>2617176</td>\n",
       "      <td>14965</td>\n",
       "      <td>0.571800</td>\n",
       "      <td>1526290</td>\n",
       "      <td>58.318203</td>\n",
       "      <td>6125</td>\n",
       "      <td>0.234031</td>\n",
       "    </tr>\n",
       "    <tr>\n",
       "      <td>36005</td>\n",
       "      <td>Bronx County, NY</td>\n",
       "      <td>36</td>\n",
       "      <td>5</td>\n",
       "      <td>1418733</td>\n",
       "      <td>12140</td>\n",
       "      <td>0.855693</td>\n",
       "      <td>600930</td>\n",
       "      <td>42.356807</td>\n",
       "      <td>4445</td>\n",
       "      <td>0.313308</td>\n",
       "    </tr>\n",
       "    <tr>\n",
       "      <td>06053</td>\n",
       "      <td>Monterey County, CA</td>\n",
       "      <td>6</td>\n",
       "      <td>53</td>\n",
       "      <td>428826</td>\n",
       "      <td>1115</td>\n",
       "      <td>0.260012</td>\n",
       "      <td>177465</td>\n",
       "      <td>41.383918</td>\n",
       "      <td>1365</td>\n",
       "      <td>0.318311</td>\n",
       "    </tr>\n",
       "    <tr>\n",
       "      <td>06037</td>\n",
       "      <td>Los Angeles County, CA</td>\n",
       "      <td>6</td>\n",
       "      <td>37</td>\n",
       "      <td>10017068</td>\n",
       "      <td>38235</td>\n",
       "      <td>0.381699</td>\n",
       "      <td>3653910</td>\n",
       "      <td>36.476841</td>\n",
       "      <td>174385</td>\n",
       "      <td>1.740879</td>\n",
       "    </tr>\n",
       "    <tr>\n",
       "      <td>34017</td>\n",
       "      <td>Hudson County, NJ</td>\n",
       "      <td>34</td>\n",
       "      <td>17</td>\n",
       "      <td>660282</td>\n",
       "      <td>3580</td>\n",
       "      <td>0.542193</td>\n",
       "      <td>233305</td>\n",
       "      <td>35.334145</td>\n",
       "      <td>6590</td>\n",
       "      <td>0.998058</td>\n",
       "    </tr>\n",
       "    <tr>\n",
       "      <td>...</td>\n",
       "      <td>...</td>\n",
       "      <td>...</td>\n",
       "      <td>...</td>\n",
       "      <td>...</td>\n",
       "      <td>...</td>\n",
       "      <td>...</td>\n",
       "      <td>...</td>\n",
       "      <td>...</td>\n",
       "      <td>...</td>\n",
       "      <td>...</td>\n",
       "    </tr>\n",
       "    <tr>\n",
       "      <td>29189</td>\n",
       "      <td>St. Louis County, MO</td>\n",
       "      <td>29</td>\n",
       "      <td>189</td>\n",
       "      <td>1001444</td>\n",
       "      <td>3265</td>\n",
       "      <td>0.326029</td>\n",
       "      <td>20480</td>\n",
       "      <td>2.045047</td>\n",
       "      <td>5695</td>\n",
       "      <td>0.568679</td>\n",
       "    </tr>\n",
       "    <tr>\n",
       "      <td>15003</td>\n",
       "      <td>Honolulu County, HI</td>\n",
       "      <td>15</td>\n",
       "      <td>3</td>\n",
       "      <td>983429</td>\n",
       "      <td>2730</td>\n",
       "      <td>0.277600</td>\n",
       "      <td>16980</td>\n",
       "      <td>1.726612</td>\n",
       "      <td>16790</td>\n",
       "      <td>1.707292</td>\n",
       "    </tr>\n",
       "    <tr>\n",
       "      <td>15009</td>\n",
       "      <td>Maui County, HI</td>\n",
       "      <td>15</td>\n",
       "      <td>9</td>\n",
       "      <td>160202</td>\n",
       "      <td>740</td>\n",
       "      <td>0.461917</td>\n",
       "      <td>2750</td>\n",
       "      <td>1.716583</td>\n",
       "      <td>210</td>\n",
       "      <td>0.131085</td>\n",
       "    </tr>\n",
       "    <tr>\n",
       "      <td>42003</td>\n",
       "      <td>Allegheny County, PA</td>\n",
       "      <td>42</td>\n",
       "      <td>3</td>\n",
       "      <td>1231527</td>\n",
       "      <td>4345</td>\n",
       "      <td>0.352814</td>\n",
       "      <td>16020</td>\n",
       "      <td>1.300824</td>\n",
       "      <td>6890</td>\n",
       "      <td>0.559468</td>\n",
       "    </tr>\n",
       "    <tr>\n",
       "      <td>26099</td>\n",
       "      <td>Macomb County, MI</td>\n",
       "      <td>26</td>\n",
       "      <td>99</td>\n",
       "      <td>854769</td>\n",
       "      <td>2065</td>\n",
       "      <td>0.241586</td>\n",
       "      <td>11055</td>\n",
       "      <td>1.293332</td>\n",
       "      <td>1950</td>\n",
       "      <td>0.228132</td>\n",
       "    </tr>\n",
       "  </tbody>\n",
       "</table>\n",
       "<p>155 rows × 10 columns</p>\n",
       "</div>"
      ],
      "text/plain": [
       "                       county  state code  county code  population  no_french  \\\n",
       "fips                                                                            \n",
       "12086   Miami-Dade County, FL          12           86     2617176      14965   \n",
       "36005        Bronx County, NY          36            5     1418733      12140   \n",
       "06053     Monterey County, CA           6           53      428826       1115   \n",
       "06037  Los Angeles County, CA           6           37    10017068      38235   \n",
       "34017       Hudson County, NJ          34           17      660282       3580   \n",
       "...                       ...         ...          ...         ...        ...   \n",
       "29189    St. Louis County, MO          29          189     1001444       3265   \n",
       "15003     Honolulu County, HI          15            3      983429       2730   \n",
       "15009         Maui County, HI          15            9      160202        740   \n",
       "42003    Allegheny County, PA          42            3     1231527       4345   \n",
       "26099       Macomb County, MI          26           99      854769       2065   \n",
       "\n",
       "       pct_french  no_spanish  pct_spanish  no_chinese  pct_chinese  \n",
       "fips                                                                 \n",
       "12086    0.571800     1526290    58.318203        6125     0.234031  \n",
       "36005    0.855693      600930    42.356807        4445     0.313308  \n",
       "06053    0.260012      177465    41.383918        1365     0.318311  \n",
       "06037    0.381699     3653910    36.476841      174385     1.740879  \n",
       "34017    0.542193      233305    35.334145        6590     0.998058  \n",
       "...           ...         ...          ...         ...          ...  \n",
       "29189    0.326029       20480     2.045047        5695     0.568679  \n",
       "15003    0.277600       16980     1.726612       16790     1.707292  \n",
       "15009    0.461917        2750     1.716583         210     0.131085  \n",
       "42003    0.352814       16020     1.300824        6890     0.559468  \n",
       "26099    0.241586       11055     1.293332        1950     0.228132  \n",
       "\n",
       "[155 rows x 10 columns]"
      ]
     },
     "execution_count": 17,
     "metadata": {},
     "output_type": "execute_result"
    }
   ],
   "source": [
    "#Main DF\n",
    "df.sort_values('pct_spanish',ascending=False)"
   ]
  },
  {
   "cell_type": "markdown",
   "metadata": {},
   "source": [
    "<div style=\"display:flex\">\n",
    "    <p style=\"background-color: #60ff30; color:black\">100%</p>\n",
    "    <p style=\"background-color: #24ffd9; color:black\">>75%</p>\n",
    "    <p style=\"background-color: #1c86ff\">>50%</p>\n",
    "    <p style=\"background-color: #4c14ff\">>25%</p>\n",
    "    <p style=\"background-color: #9d10ff\">>10%</p>\n",
    "    <p style=\"background-color: #ff08b6\">>0%</p>\n",
    "    <p style=\"background-color: #ff0000\">0%</p>\n",
    "</div>"
   ]
  },
  {
   "cell_type": "code",
   "execution_count": 15,
   "metadata": {},
   "outputs": [
    {
     "data": {
      "application/vnd.jupyter.widget-view+json": {
       "model_id": "4f34191417bf46cdb72c0973bd103665",
       "version_major": 2,
       "version_minor": 0
      },
      "text/plain": [
       "Figure(layout=FigureLayout(height='420px'))"
      ]
     },
     "metadata": {},
     "output_type": "display_data"
    }
   ],
   "source": [
    "#Produces Chinese Map\n",
    "'''\n",
    "shade_pct documentation\n",
    "    Inputs:\n",
    "        fips: list of county codes\n",
    "        df: pandas dataframe with language columns \n",
    "        language: string-spanish, french or chinese\n",
    "    Algorigthm:\n",
    "        initilizes empty lists and determines max percent in language series\n",
    "        loops through counties by fips\n",
    "        if county is in dataframe:\n",
    "            get county pct language speaking\n",
    "            color based on percentage of max pct\n",
    "            append color to colors list\n",
    "        else:\n",
    "            color grey (#AAAAAA)\n",
    "    Returns:\n",
    "        colors: list of colors (hexcode)\n",
    "'''\n",
    "c = shade_pct(fips_ls, df, \"chinese\")\n",
    "\n",
    "fig = gmaps.figure()\n",
    "pct_layer = gmaps.geojson_layer(counties_geojson, stroke_weight = 0.5,\n",
    "                                fill_color=c, fill_opacity=0.5)\n",
    "state_layer = gmaps.geojson_layer(state_geojson, stroke_weight = 2,\n",
    "                                  fill_opacity=0)\n",
    "fig.add_layer(pct_layer)\n",
    "fig.add_layer(state_layer)\n",
    "fig"
   ]
  },
  {
   "cell_type": "code",
   "execution_count": 4,
   "metadata": {},
   "outputs": [
    {
     "data": {
      "application/vnd.jupyter.widget-view+json": {
       "model_id": "6914414b76f44619b261b3520a34aa4d",
       "version_major": 2,
       "version_minor": 0
      },
      "text/plain": [
       "Figure(layout=FigureLayout(height='420px'))"
      ]
     },
     "metadata": {},
     "output_type": "display_data"
    }
   ],
   "source": [
    "#Produces Spanish Map\n",
    "c = shade_pct(fips_ls, df, \"spanish\")\n",
    "fig = gmaps.figure()\n",
    "pct_layer = gmaps.geojson_layer(counties_geojson, stroke_weight = 0.5,\n",
    "                                fill_color=c, fill_opacity=0.5)\n",
    "state_layer = gmaps.geojson_layer(state_geojson, stroke_weight = 2,\n",
    "                                  fill_opacity=0)\n",
    "fig.add_layer(pct_layer)\n",
    "fig.add_layer(state_layer)\n",
    "fig"
   ]
  },
  {
   "cell_type": "code",
   "execution_count": 18,
   "metadata": {},
   "outputs": [
    {
     "data": {
      "application/vnd.jupyter.widget-view+json": {
       "model_id": "24fe12aaa846472aae0cc747a80fcf95",
       "version_major": 2,
       "version_minor": 0
      },
      "text/plain": [
       "Figure(layout=FigureLayout(height='420px'))"
      ]
     },
     "metadata": {},
     "output_type": "display_data"
    }
   ],
   "source": [
    "#Produces French Map\n",
    "c = shade_pct(fips_ls, df, \"french\")\n",
    "fig = gmaps.figure()\n",
    "pct_layer = gmaps.geojson_layer(counties_geojson, stroke_weight = 0.5,\n",
    "                                fill_color=c, fill_opacity=0.5)\n",
    "state_layer = gmaps.geojson_layer(state_geojson, stroke_weight = 2,\n",
    "                                  fill_opacity=0)\n",
    "fig.add_layer(pct_layer)\n",
    "fig.add_layer(state_layer)\n",
    "fig"
   ]
  },
  {
   "cell_type": "markdown",
   "metadata": {},
   "source": [
    "<div style=\"display:flex; color:black\">\n",
    "    <p style=\"background-color: #FF8E00\">Spanish</p>\n",
    "    <p style=\"background-color: #006FFF\">French</p>\n",
    "    <p style=\"background-color: #FF0000\">Chinese</p>\n",
    "    <p style=\"background-color: #FFFFFF\">English</p>\n",
    "</div>"
   ]
  },
  {
   "cell_type": "code",
   "execution_count": 6,
   "metadata": {},
   "outputs": [
    {
     "data": {
      "application/vnd.jupyter.widget-view+json": {
       "model_id": "269a9534bada452fa072dfd7a7541979",
       "version_major": 2,
       "version_minor": 0
      },
      "text/plain": [
       "Figure(layout=FigureLayout(height='420px'))"
      ]
     },
     "metadata": {},
     "output_type": "display_data"
    }
   ],
   "source": [
    "'''\n",
    "shade_lan documentation\n",
    "Inputs:\n",
    "    fips: list of county codes\n",
    "    df: pandas dataframe with languages columns \n",
    "    other_pct: option to compare languages with calculated \"other\" (default: False)\n",
    "Algorigthm:\n",
    "    initilizes empty lists, language:color codes dictionary, and language list\n",
    "    loops through county by fip\n",
    "        if county is in the dataframe:\n",
    "            set gmaps color to white (#FFFFFF) by default\n",
    "            initialize plurality language marker to 0\n",
    "            if other_pct = True:\n",
    "                set plurality language as the difference between 100 and the sum of the other languages\n",
    "            loop through each language\n",
    "                get county pct language speaking\n",
    "                if pct is larger than plurality pct:\n",
    "                    set the plurality language to pct\n",
    "                    set gmaps_color to language's color\n",
    "            append gmaps_color to colors\n",
    "        else:\n",
    "            append grey (#AAAAAA) to colors\n",
    "Return:\n",
    "    colors: list of colors\n",
    "'''\n",
    "colors = shade_lan(fips_ls, df, True)\n",
    "fig = gmaps.figure()\n",
    "pct_layer = gmaps.geojson_layer(counties_geojson, stroke_weight = 0.5,\n",
    "                                fill_color=colors, fill_opacity=0.5)\n",
    "state_layer = gmaps.geojson_layer(state_geojson, stroke_weight = 2,\n",
    "                                  fill_opacity=0)\n",
    "fig.add_layer(pct_layer)\n",
    "fig.add_layer(state_layer)\n",
    "fig"
   ]
  },
  {
   "cell_type": "code",
   "execution_count": 7,
   "metadata": {},
   "outputs": [
    {
     "data": {
      "application/vnd.jupyter.widget-view+json": {
       "model_id": "8cf1ffebafcc4bc7a02febe44f6b8981",
       "version_major": 2,
       "version_minor": 0
      },
      "text/plain": [
       "Figure(layout=FigureLayout(height='420px'))"
      ]
     },
     "metadata": {},
     "output_type": "display_data"
    }
   ],
   "source": [
    "colors = shade_lan(fips_ls, df)\n",
    "fig = gmaps.figure()\n",
    "pct_layer = gmaps.geojson_layer(counties_geojson, stroke_weight = 0.5,\n",
    "                                fill_color=colors, fill_opacity=0.5)\n",
    "state_layer = gmaps.geojson_layer(state_geojson, stroke_weight = 2,\n",
    "                                  fill_opacity=0)\n",
    "fig.add_layer(pct_layer)\n",
    "fig.add_layer(state_layer)\n",
    "fig"
   ]
  },
  {
   "cell_type": "code",
   "execution_count": 10,
   "metadata": {},
   "outputs": [],
   "source": [
    "#State Code\n",
    "state_df = csv_df.groupby('state code').sum()\n",
    "#Floor division prevents millions of data points in calculating line\n",
    "state_pop = list(state_df['population'])\n",
    "state_spanish = state_df['no_spanish']/state_pop*100\n",
    "state_french = state_df['no_french']/state_pop*100\n",
    "state_chinese = state_df['no_chinese']/state_pop*100\n"
   ]
  },
  {
   "cell_type": "code",
   "execution_count": 11,
   "metadata": {},
   "outputs": [
    {
     "data": {
      "application/vnd.jupyter.widget-view+json": {
       "model_id": "f581b66624f046868a42840a77719144",
       "version_major": 2,
       "version_minor": 0
      },
      "text/plain": [
       "Figure(layout=FigureLayout(height='420px'))"
      ]
     },
     "metadata": {},
     "output_type": "display_data"
    }
   ],
   "source": [
    "colors = shade_pct(state_fips, state_df, 'spanish')\n",
    "fig = gmaps.figure()\n",
    "#pct_layer = gmaps.geojson_layer(counties_geojson, stroke_weight = 0.5,\n",
    "#                                fill_color=colors, fill_opacity=0.5)\n",
    "state_layer = gmaps.geojson_layer(state_geojson, stroke_weight = 0.5,\n",
    "                                  fill_color=colors, fill_opacity=0.5)\n",
    "#fig.add_layer(pct_layer)\n",
    "fig.add_layer(state_layer)\n",
    "fig"
   ]
  },
  {
   "cell_type": "code",
   "execution_count": 12,
   "metadata": {},
   "outputs": [
    {
     "data": {
      "application/vnd.jupyter.widget-view+json": {
       "model_id": "426b8e4855fd477997e07e62a0a880eb",
       "version_major": 2,
       "version_minor": 0
      },
      "text/plain": [
       "Figure(layout=FigureLayout(height='420px'))"
      ]
     },
     "metadata": {},
     "output_type": "display_data"
    }
   ],
   "source": [
    "colors = shade_pct(state_fips, state_df, 'chinese')\n",
    "fig = gmaps.figure()\n",
    "#pct_layer = gmaps.geojson_layer(counties_geojson, stroke_weight = 0.5,\n",
    "#                                fill_color=colors, fill_opacity=0.5)\n",
    "state_layer = gmaps.geojson_layer(state_geojson, stroke_weight = 0.5,\n",
    "                                  fill_color=colors, fill_opacity=0.5)\n",
    "#fig.add_layer(pct_layer)\n",
    "fig.add_layer(state_layer)\n",
    "fig"
   ]
  },
  {
   "cell_type": "code",
   "execution_count": 13,
   "metadata": {},
   "outputs": [
    {
     "data": {
      "application/vnd.jupyter.widget-view+json": {
       "model_id": "86ada1c8557b47d1a076df39aa9f49f4",
       "version_major": 2,
       "version_minor": 0
      },
      "text/plain": [
       "Figure(layout=FigureLayout(height='420px'))"
      ]
     },
     "metadata": {},
     "output_type": "display_data"
    }
   ],
   "source": [
    "colors = shade_pct(state_fips, state_df, 'french')\n",
    "fig = gmaps.figure()\n",
    "#pct_layer = gmaps.geojson_layer(counties_geojson, stroke_weight = 0.5,\n",
    "#                                fill_color=colors, fill_opacity=0.5)\n",
    "state_layer = gmaps.geojson_layer(state_geojson, stroke_weight = 0.5,\n",
    "                                  fill_color=colors, fill_opacity=0.5)\n",
    "#fig.add_layer(pct_layer)\n",
    "fig.add_layer(state_layer)\n",
    "fig"
   ]
  },
  {
   "cell_type": "code",
   "execution_count": null,
   "metadata": {},
   "outputs": [],
   "source": []
  }
 ],
 "metadata": {
  "kernelspec": {
   "display_name": "Python 3",
   "language": "python",
   "name": "python3"
  },
  "language_info": {
   "codemirror_mode": {
    "name": "ipython",
    "version": 3
   },
   "file_extension": ".py",
   "mimetype": "text/x-python",
   "name": "python",
   "nbconvert_exporter": "python",
   "pygments_lexer": "ipython3",
   "version": "3.7.4"
  }
 },
 "nbformat": 4,
 "nbformat_minor": 4
}
