{
 "cells": [
  {
   "cell_type": "code",
   "execution_count": 16,
   "metadata": {},
   "outputs": [
    {
     "data": {
      "text/html": [
       "<div>\n",
       "<style scoped>\n",
       "    .dataframe tbody tr th:only-of-type {\n",
       "        vertical-align: middle;\n",
       "    }\n",
       "\n",
       "    .dataframe tbody tr th {\n",
       "        vertical-align: top;\n",
       "    }\n",
       "\n",
       "    .dataframe thead th {\n",
       "        text-align: right;\n",
       "    }\n",
       "</style>\n",
       "<table border=\"1\" class=\"dataframe\">\n",
       "  <thead>\n",
       "    <tr style=\"text-align: right;\">\n",
       "      <th></th>\n",
       "      <th>fips</th>\n",
       "      <th>county</th>\n",
       "      <th>state code</th>\n",
       "      <th>county code</th>\n",
       "      <th>population</th>\n",
       "      <th>no_french</th>\n",
       "      <th>pct_french</th>\n",
       "      <th>no_spanish</th>\n",
       "      <th>pct_spanish</th>\n",
       "      <th>no_chinese</th>\n",
       "      <th>pct_chinese</th>\n",
       "    </tr>\n",
       "  </thead>\n",
       "  <tbody>\n",
       "    <tr>\n",
       "      <td>2</td>\n",
       "      <td>4017</td>\n",
       "      <td>Navajo County, AZ</td>\n",
       "      <td>4</td>\n",
       "      <td>17</td>\n",
       "      <td>107322</td>\n",
       "      <td>85</td>\n",
       "      <td>0.079201</td>\n",
       "      <td>5885</td>\n",
       "      <td>5.483498</td>\n",
       "      <td>0</td>\n",
       "      <td>0.000000</td>\n",
       "    </tr>\n",
       "    <tr>\n",
       "      <td>100</td>\n",
       "      <td>35045</td>\n",
       "      <td>San Juan County, NM</td>\n",
       "      <td>35</td>\n",
       "      <td>45</td>\n",
       "      <td>126503</td>\n",
       "      <td>205</td>\n",
       "      <td>0.162051</td>\n",
       "      <td>12025</td>\n",
       "      <td>9.505703</td>\n",
       "      <td>45</td>\n",
       "      <td>0.035572</td>\n",
       "    </tr>\n",
       "    <tr>\n",
       "      <td>49</td>\n",
       "      <td>15009</td>\n",
       "      <td>Maui County, HI</td>\n",
       "      <td>15</td>\n",
       "      <td>9</td>\n",
       "      <td>160202</td>\n",
       "      <td>740</td>\n",
       "      <td>0.461917</td>\n",
       "      <td>2750</td>\n",
       "      <td>1.716583</td>\n",
       "      <td>210</td>\n",
       "      <td>0.131085</td>\n",
       "    </tr>\n",
       "    <tr>\n",
       "      <td>47</td>\n",
       "      <td>15001</td>\n",
       "      <td>Hawaii County, HI</td>\n",
       "      <td>15</td>\n",
       "      <td>1</td>\n",
       "      <td>190821</td>\n",
       "      <td>625</td>\n",
       "      <td>0.327532</td>\n",
       "      <td>4440</td>\n",
       "      <td>2.326788</td>\n",
       "      <td>250</td>\n",
       "      <td>0.131013</td>\n",
       "    </tr>\n",
       "    <tr>\n",
       "      <td>25</td>\n",
       "      <td>6113</td>\n",
       "      <td>Yolo County, CA</td>\n",
       "      <td>6</td>\n",
       "      <td>113</td>\n",
       "      <td>204593</td>\n",
       "      <td>605</td>\n",
       "      <td>0.295709</td>\n",
       "      <td>40085</td>\n",
       "      <td>19.592557</td>\n",
       "      <td>3385</td>\n",
       "      <td>1.654504</td>\n",
       "    </tr>\n",
       "    <tr>\n",
       "      <td>...</td>\n",
       "      <td>...</td>\n",
       "      <td>...</td>\n",
       "      <td>...</td>\n",
       "      <td>...</td>\n",
       "      <td>...</td>\n",
       "      <td>...</td>\n",
       "      <td>...</td>\n",
       "      <td>...</td>\n",
       "      <td>...</td>\n",
       "      <td>...</td>\n",
       "      <td>...</td>\n",
       "    </tr>\n",
       "    <tr>\n",
       "      <td>15</td>\n",
       "      <td>6073</td>\n",
       "      <td>San Diego County, CA</td>\n",
       "      <td>6</td>\n",
       "      <td>73</td>\n",
       "      <td>3211252</td>\n",
       "      <td>9135</td>\n",
       "      <td>0.284468</td>\n",
       "      <td>725295</td>\n",
       "      <td>22.586051</td>\n",
       "      <td>27495</td>\n",
       "      <td>0.856208</td>\n",
       "    </tr>\n",
       "    <tr>\n",
       "      <td>1</td>\n",
       "      <td>4013</td>\n",
       "      <td>Maricopa County, AZ</td>\n",
       "      <td>4</td>\n",
       "      <td>13</td>\n",
       "      <td>4009412</td>\n",
       "      <td>10680</td>\n",
       "      <td>0.266373</td>\n",
       "      <td>733630</td>\n",
       "      <td>18.297696</td>\n",
       "      <td>13750</td>\n",
       "      <td>0.342943</td>\n",
       "    </tr>\n",
       "    <tr>\n",
       "      <td>139</td>\n",
       "      <td>48201</td>\n",
       "      <td>Harris County, TX</td>\n",
       "      <td>48</td>\n",
       "      <td>201</td>\n",
       "      <td>4336853</td>\n",
       "      <td>15510</td>\n",
       "      <td>0.357633</td>\n",
       "      <td>1313020</td>\n",
       "      <td>30.275871</td>\n",
       "      <td>28485</td>\n",
       "      <td>0.656813</td>\n",
       "    </tr>\n",
       "    <tr>\n",
       "      <td>50</td>\n",
       "      <td>17031</td>\n",
       "      <td>Cook County, IL</td>\n",
       "      <td>17</td>\n",
       "      <td>31</td>\n",
       "      <td>5240700</td>\n",
       "      <td>18265</td>\n",
       "      <td>0.348522</td>\n",
       "      <td>991495</td>\n",
       "      <td>18.919133</td>\n",
       "      <td>39185</td>\n",
       "      <td>0.747705</td>\n",
       "    </tr>\n",
       "    <tr>\n",
       "      <td>8</td>\n",
       "      <td>6037</td>\n",
       "      <td>Los Angeles County, CA</td>\n",
       "      <td>6</td>\n",
       "      <td>37</td>\n",
       "      <td>10017068</td>\n",
       "      <td>38235</td>\n",
       "      <td>0.381699</td>\n",
       "      <td>3653910</td>\n",
       "      <td>36.476841</td>\n",
       "      <td>174385</td>\n",
       "      <td>1.740879</td>\n",
       "    </tr>\n",
       "  </tbody>\n",
       "</table>\n",
       "<p>155 rows × 11 columns</p>\n",
       "</div>"
      ],
      "text/plain": [
       "      fips                  county  state code  county code  population  \\\n",
       "2     4017       Navajo County, AZ           4           17      107322   \n",
       "100  35045     San Juan County, NM          35           45      126503   \n",
       "49   15009         Maui County, HI          15            9      160202   \n",
       "47   15001       Hawaii County, HI          15            1      190821   \n",
       "25    6113         Yolo County, CA           6          113      204593   \n",
       "..     ...                     ...         ...          ...         ...   \n",
       "15    6073    San Diego County, CA           6           73     3211252   \n",
       "1     4013     Maricopa County, AZ           4           13     4009412   \n",
       "139  48201       Harris County, TX          48          201     4336853   \n",
       "50   17031         Cook County, IL          17           31     5240700   \n",
       "8     6037  Los Angeles County, CA           6           37    10017068   \n",
       "\n",
       "     no_french  pct_french  no_spanish  pct_spanish  no_chinese  pct_chinese  \n",
       "2           85    0.079201        5885     5.483498           0     0.000000  \n",
       "100        205    0.162051       12025     9.505703          45     0.035572  \n",
       "49         740    0.461917        2750     1.716583         210     0.131085  \n",
       "47         625    0.327532        4440     2.326788         250     0.131013  \n",
       "25         605    0.295709       40085    19.592557        3385     1.654504  \n",
       "..         ...         ...         ...          ...         ...          ...  \n",
       "15        9135    0.284468      725295    22.586051       27495     0.856208  \n",
       "1        10680    0.266373      733630    18.297696       13750     0.342943  \n",
       "139      15510    0.357633     1313020    30.275871       28485     0.656813  \n",
       "50       18265    0.348522      991495    18.919133       39185     0.747705  \n",
       "8        38235    0.381699     3653910    36.476841      174385     1.740879  \n",
       "\n",
       "[155 rows x 11 columns]"
      ]
     },
     "execution_count": 16,
     "metadata": {},
     "output_type": "execute_result"
    }
   ],
   "source": [
    "import pandas as pd\n",
    "from scipy.stats import linregress\n",
    "from matplotlib import pyplot as plt\n",
    "fp = \"langs_by_county.csv\"\n",
    "csv_df = pd.read_csv(fp)\n",
    "csv_df.sort_values('population')"
   ]
  },
  {
   "cell_type": "code",
   "execution_count": 64,
   "metadata": {},
   "outputs": [],
   "source": [
    "#Floor division prevents millions of data points in calculating line\n",
    "pop = csv_df['population']//10\n",
    "spanish = csv_df['pct_spanish']\n",
    "french = csv_df['pct_french']\n",
    "chinese = csv_df['pct_chinese']\n",
    "m,b, _,_,_ = linregress(pop,spanish)\n",
    "min_pop = min(pop)\n",
    "max_pop = max(pop)\n",
    "line = [m*x+b for x in range(min_pop,max_pop)]"
   ]
  },
  {
   "cell_type": "code",
   "execution_count": 65,
   "metadata": {},
   "outputs": [
    {
     "data": {
      "text/plain": [
       "[<matplotlib.lines.Line2D at 0x14f36562288>]"
      ]
     },
     "execution_count": 65,
     "metadata": {},
     "output_type": "execute_result"
    },
    {
     "data": {
      "image/png": "[encoded data removed]",
      "text/plain": [
       "<Figure size 432x288 with 1 Axes>"
      ]
     },
     "metadata": {
      "needs_background": "light"
     },
     "output_type": "display_data"
    }
   ],
   "source": [
    "plt.scatter(pop,spanish)\n",
    "plt.plot(line, color='orange')"
   ]
  },
  {
   "cell_type": "code",
   "execution_count": 13,
   "metadata": {},
   "outputs": [
    {
     "data": {
      "text/plain": [
       "107322"
      ]
     },
     "execution_count": 13,
     "metadata": {},
     "output_type": "execute_result"
    }
   ],
   "source": [
    "min(pop)"
   ]
  },
  {
   "cell_type": "code",
   "execution_count": 57,
   "metadata": {},
   "outputs": [],
   "source": [
    "state_df = csv_df.groupby('state code').sum()\n",
    "#Floor division prevents millions of data points in calculating line\n",
    "state_pop = list(state_df['population']//100)\n",
    "state_spanish = state_df['pct_spanish']\n",
    "state_french = state_df['pct_french']\n",
    "state_chinese = state_df['pct_chinese']\n",
    "m,b,_,_,_ = linregress(state_pop,state_spanish)\n",
    "min_pop = min(state_pop)\n",
    "max_pop = max(state_pop)\n",
    "#line = [m*x+b for x in range(min_pop,max_pop)]\n",
    "line = [m*x+b for x in range(min_pop,max_pop)]"
   ]
  },
  {
   "cell_type": "code",
   "execution_count": 58,
   "metadata": {},
   "outputs": [
    {
     "data": {
      "text/plain": [
       "[<matplotlib.lines.Line2D at 0x14f0e221188>]"
      ]
     },
     "execution_count": 58,
     "metadata": {},
     "output_type": "execute_result"
    },
    {
     "data": {
      "image/png": "[encoded data removed]",
      "text/plain": [
       "<Figure size 432x288 with 1 Axes>"
      ]
     },
     "metadata": {
      "needs_background": "light"
     },
     "output_type": "display_data"
    }
   ],
   "source": [
    "plt.scatter(state_pop,state_spanish)\n",
    "plt.plot(line, color='orange')"
   ]
  },
  {
   "cell_type": "code",
   "execution_count": null,
   "metadata": {},
   "outputs": [],
   "source": []
  }
 ],
 "metadata": {
  "kernelspec": {
   "display_name": "Python 3",
   "language": "python",
   "name": "python3"
  },
  "language_info": {
   "codemirror_mode": {
    "name": "ipython",
    "version": 3
   },
   "file_extension": ".py",
   "mimetype": "text/x-python",
   "name": "python",
   "nbconvert_exporter": "python",
   "pygments_lexer": "ipython3",
   "version": "3.7.4"
  }
 },
 "nbformat": 4,
 "nbformat_minor": 4
}
